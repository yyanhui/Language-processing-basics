{
 "cells": [
  {
   "cell_type": "markdown",
   "id": "c20c2c81-1624-4c97-8ef7-390f0bf8e521",
   "metadata": {},
   "source": [
    "## Character classes\n",
    "s : white space characters\n",
    "\n",
    "S : Non-white space characters\n",
    "\n",
    "d : digits\n",
    "\n",
    "D : Non-digits\n",
    "\n",
    "w : any word character\n",
    "\n",
    "W : None-word character\n",
    "\n",
    "b : word boundary"
   ]
  },
  {
   "cell_type": "markdown",
   "id": "aade9e67-d098-4bf7-a767-3dd1c38a7157",
   "metadata": {},
   "source": [
    "## Symbols\n",
    "#### repeaters\n",
    "\\* : 0-inf repeatition\n",
    "\n",
    "\\+ : 1-inf repeatition\n",
    "\n",
    "{number} : number times of repeatition {2,} : more than 2; {2,5} : 2-5 times\n",
    "\n",
    "#### blurry search\n",
    "\n",
    "? : may or may not\n",
    "\n",
    ". : any character\n",
    "\n",
    "#### positions\n",
    "\n",
    "^ : beginning\n",
    "\n",
    "$ : end\n",
    "\n",
    "\\number : matches the number th character\n",
    "\n",
    "#### range\n",
    "[a-z] : lower letters\n",
    "\n",
    "[A-Z] : cap letters\n",
    "\n",
    "[0-9] : digits\n",
    "\n",
    "() : groups\n",
    "\n",
    "[^] : negation\n",
    "\n",
    "(a|b|c) : a or b or c\n",
    "\n",
    "#### comments\n",
    "\n",
    "(?#) : intermediate comment\n",
    "\n",
    "\\# : end of line comment"
   ]
  },
  {
   "cell_type": "code",
   "execution_count": null,
   "id": "e9cf10d8-dfc9-41c5-968f-c0271629a887",
   "metadata": {},
   "outputs": [],
   "source": []
  }
 ],
 "metadata": {
  "kernelspec": {
   "display_name": "Python 3 (ipykernel)",
   "language": "python",
   "name": "python3"
  },
  "language_info": {
   "codemirror_mode": {
    "name": "ipython",
    "version": 3
   },
   "file_extension": ".py",
   "mimetype": "text/x-python",
   "name": "python",
   "nbconvert_exporter": "python",
   "pygments_lexer": "ipython3",
   "version": "3.12.4"
  }
 },
 "nbformat": 4,
 "nbformat_minor": 5
}
