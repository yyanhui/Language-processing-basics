{
 "cells": [
  {
   "cell_type": "markdown",
   "id": "df4826be-2d80-4d9a-9521-54092a018867",
   "metadata": {},
   "source": [
    "# Representation\n",
    "converts the words to numerical vectors"
   ]
  },
  {
   "cell_type": "markdown",
   "id": "df247f1d-2125-40f8-9299-b2c789915e06",
   "metadata": {
    "jp-MarkdownHeadingCollapsed": true
   },
   "source": [
    "### One-hot Encoding (Dummy Encoding)\n",
    "Converts categories into multiple binary columns where only one bit is active (1) per entry.\n",
    "\n",
    "PROS: numerical categorical data,eliminating ordinality (like year 1, 2, 3 ,4 don't provide order information)\n",
    "\n",
    "CONS: higher dimension, sparse observation for some dimensions, overfitting when too many categories"
   ]
  },
  {
   "cell_type": "code",
   "execution_count": 7,
   "id": "340958c7-349d-405c-b1ca-6cb98730714e",
   "metadata": {},
   "outputs": [
    {
     "name": "stdout",
     "output_type": "stream",
     "text": [
      "Original Data:\n",
      "   Employee id Gender Remarks\n",
      "0           10      M    Good\n",
      "1           20      F    Nice\n",
      "2           15      F    Good\n",
      "3           25      M   Great\n",
      "4           30      F    Nice\n",
      "\n",
      "One-Hot Encoded Data using Pandas:\n",
      "   Employee id  Gender_M  Remarks_Great  Remarks_Nice\n",
      "0           10      True          False         False\n",
      "1           20     False          False          True\n",
      "2           15     False          False         False\n",
      "3           25      True           True         False\n",
      "4           30     False          False          True\n",
      "\n",
      "One-Hot Encoded Data using Scikit-Learn:\n",
      "   Employee id  Gender_F  Gender_M  Remarks_Good  Remarks_Great  Remarks_Nice\n",
      "0           10       0.0       1.0           1.0            0.0           0.0\n",
      "1           20       1.0       0.0           0.0            0.0           1.0\n",
      "2           15       1.0       0.0           1.0            0.0           0.0\n",
      "3           25       0.0       1.0           0.0            1.0           0.0\n",
      "4           30       1.0       0.0           0.0            0.0           1.0\n",
      "\n"
     ]
    }
   ],
   "source": [
    "import pandas as pd\n",
    "from sklearn.preprocessing import OneHotEncoder\n",
    "data = {\n",
    "    'Employee id': [10, 20, 15, 25, 30],\n",
    "    'Gender': ['M', 'F', 'F', 'M', 'F'],\n",
    "    'Remarks': ['Good', 'Nice', 'Good', 'Great', 'Nice']\n",
    "}\n",
    "\n",
    "df = pd.DataFrame(data)\n",
    "print(f\"Original Data:\\n{df}\\n\")\n",
    "# Use pd.get_dummies() to one-hot encode the categorical columns\n",
    "df_pandas_encoded = pd.get_dummies(df, columns=['Gender', 'Remarks'], drop_first=True)\n",
    "print(f\"One-Hot Encoded Data using Pandas:\\n{df_pandas_encoded}\\n\")\n",
    "\n",
    "encoder = OneHotEncoder(sparse_output=False)\n",
    "categorical_columns = ['Gender', 'Remarks']\n",
    "one_hot_encoded = encoder.fit_transform(df[categorical_columns])\n",
    "one_hot_df = pd.DataFrame(one_hot_encoded, \n",
    "                          columns=encoder.get_feature_names_out(categorical_columns))\n",
    "\n",
    "df_sklearn_encoded = pd.concat([df.drop(categorical_columns, axis=1), one_hot_df], axis=1)\n",
    "\n",
    "print(f\"One-Hot Encoded Data using Scikit-Learn:\\n{df_sklearn_encoded}\\n\")\n"
   ]
  },
  {
   "cell_type": "markdown",
   "id": "d9fccfa5-1f1e-4611-b470-ddb2f4380567",
   "metadata": {},
   "source": [
    "### Bag of Words\n",
    "\n",
    "step1 : preprocessing the text into list of words\n",
    "\n",
    "step2 : summarize the frequency of each words and select most frequent n words\n",
    "\n",
    "step2 : set binary vector, where the frequent word positions are 1 otherwise 0"
   ]
  },
  {
   "cell_type": "code",
   "execution_count": 1,
   "id": "0fde6258-a653-499c-813c-e75d2e4b96db",
   "metadata": {},
   "outputs": [],
   "source": [
    "## read the text file\n",
    "with open('de-en.txt', 'r') as file:\n",
    "    lines = file.readlines()"
   ]
  },
  {
   "cell_type": "code",
   "execution_count": 5,
   "id": "c105b384-e3ae-43b0-a5d7-d4f6d26798d3",
   "metadata": {},
   "outputs": [
    {
     "name": "stdout",
     "output_type": "stream",
     "text": [
      "['wiederaufnahme der sitzungsperiode ich erkläre die am freitag dem 17', 'dezember unterbrochene sitzungsperiode des europäischen parlaments für wiederaufgenommen wünsche ihnen nochmals alles gute zum jahreswechsel und hoffe daß sie schöne ferien hatten', 'wie sie feststellen konnten ist der gefürchtete millenium bug nicht eingetreten', 'doch sind bürger einiger unserer mitgliedstaaten opfer von schrecklichen naturkatastrophen geworden', 'im parlament besteht der wunsch nach einer aussprache im verlauf dieser sitzungsperiode in den nächsten tagen', 'heute möchte ich sie bitten das ist auch der wunsch einiger kolleginnen und kollegen allen opfern der stürme insbesondere in den verschiedenen ländern der europäischen union in einer schweigeminute zu gedenken', 'ich bitte sie sich zu einer schweigeminute zu erheben', 'das parlament erhebt sich zu einer schweigeminute', 'frau präsidentin zur geschäftsordnung', 'wie sie sicher aus der presse und dem fernsehen wissen gab es in sri lanka mehrere bombenexplosionen mit zahlreichen toten']\n"
     ]
    }
   ],
   "source": [
    "import nltk \n",
    "import re \n",
    "import numpy as np \n",
    "  \n",
    "## preprocessing \n",
    "dataset = nltk.sent_tokenize(''.join(lines))\n",
    "for i in range(len(dataset)):\n",
    "    dataset[i] = dataset[i].lower()  # Convert to lowercase\n",
    "    dataset[i] = re.sub(r'\\W', ' ', dataset[i])  # Remove non-word characters\n",
    "    dataset[i] = re.sub(r'\\s+', ' ', dataset[i]).strip()  # Remove extra spaces\n",
    "\n",
    "# Output cleaned sentences\n",
    "print(dataset[:10]) "
   ]
  },
  {
   "cell_type": "code",
   "execution_count": 7,
   "id": "18ad339c-570e-4157-a185-c086890a0e9b",
   "metadata": {},
   "outputs": [],
   "source": [
    "## frequency\n",
    "word2count = {} \n",
    "for data in dataset: \n",
    "    words = nltk.word_tokenize(data) \n",
    "    for word in words: \n",
    "        if word not in word2count.keys(): \n",
    "            word2count[word] = 1\n",
    "        else: \n",
    "            word2count[word] += 1"
   ]
  },
  {
   "cell_type": "code",
   "execution_count": 15,
   "id": "7e8a99d2-e5eb-4a50-9e9b-9ebf93343b1e",
   "metadata": {},
   "outputs": [],
   "source": [
    "## results\n",
    "import heapq \n",
    "freq_words = heapq.nlargest(200, word2count, key=word2count.get)\n",
    "BoW = [] \n",
    "for data in dataset[:500]: \n",
    "    vector = [] \n",
    "    for word in freq_words: \n",
    "        if word in nltk.word_tokenize(data): \n",
    "            vector.append(1) \n",
    "        else: \n",
    "            vector.append(0) \n",
    "    BoW.append(vector) \n",
    "BoW = np.asarray(BoW) "
   ]
  },
  {
   "cell_type": "code",
   "execution_count": 21,
   "id": "8bbbcf00-5a8b-4d01-beb3-bd10332596af",
   "metadata": {},
   "outputs": [
    {
     "data": {
      "text/plain": [
       "['wiederaufnahme der sitzungsperiode ich erkläre die am freitag dem 17',\n",
       " 'dezember unterbrochene sitzungsperiode des europäischen parlaments für wiederaufgenommen wünsche ihnen nochmals alles gute zum jahreswechsel und hoffe daß sie schöne ferien hatten',\n",
       " 'wie sie feststellen konnten ist der gefürchtete millenium bug nicht eingetreten']"
      ]
     },
     "execution_count": 21,
     "metadata": {},
     "output_type": "execute_result"
    }
   ],
   "source": [
    "dataset[:3]"
   ]
  },
  {
   "cell_type": "code",
   "execution_count": 23,
   "id": "8c8117fc-3746-4d00-858d-be07d99e7182",
   "metadata": {},
   "outputs": [
    {
     "data": {
      "text/plain": [
       "array([[1, 1, 0, 0, 0, 0, 0, 1, 0, 0, 0, 0, 0, 0, 0, 0, 0, 0, 0, 0, 0, 0,\n",
       "        0, 1, 0, 0, 0, 0, 0, 0, 0, 0, 0, 0, 0, 0, 0, 0, 0, 0, 0, 0, 0, 0,\n",
       "        0, 0, 0, 0, 0, 0, 0, 0, 0, 0, 0, 0, 0, 0, 0, 0, 0, 0, 0, 0, 0, 0,\n",
       "        0, 0, 0, 0, 0, 0, 0, 0, 0, 0, 0, 0, 0, 0, 0, 0, 0, 0, 0, 0, 0, 0,\n",
       "        0, 0, 0, 0, 0, 0, 0, 0, 0, 0, 0, 1, 0, 0, 0, 0, 0, 0, 0, 0, 0, 0,\n",
       "        0, 0, 0, 0, 0, 0, 0, 0, 0, 0, 0, 0, 0, 0, 0, 0, 0, 0, 0, 0, 0, 0,\n",
       "        0, 0, 0, 0, 0, 0, 0, 0, 0, 0, 0, 0, 0, 0, 0, 0, 0, 0, 0, 0, 0, 0,\n",
       "        0, 0, 0, 0, 0, 0, 0, 0, 0, 0, 0, 0, 0, 0, 0, 0, 0, 0, 0, 0, 0, 0,\n",
       "        0, 0, 0, 0, 0, 0, 0, 0, 0, 0, 0, 0, 0, 0, 0, 0, 0, 0, 0, 0, 0, 0,\n",
       "        0, 0],\n",
       "       [0, 0, 1, 0, 0, 0, 0, 0, 1, 0, 0, 0, 0, 0, 0, 1, 0, 0, 0, 0, 0, 1,\n",
       "        0, 0, 0, 0, 0, 0, 0, 0, 0, 0, 1, 0, 0, 0, 0, 1, 0, 0, 0, 0, 0, 0,\n",
       "        0, 0, 0, 0, 0, 0, 0, 0, 0, 0, 0, 0, 0, 0, 0, 0, 1, 0, 0, 0, 0, 0,\n",
       "        0, 0, 0, 0, 0, 0, 0, 0, 0, 0, 0, 0, 0, 0, 0, 0, 0, 0, 0, 0, 0, 0,\n",
       "        0, 0, 0, 0, 0, 0, 0, 0, 0, 0, 0, 0, 0, 1, 0, 0, 0, 0, 0, 0, 0, 0,\n",
       "        0, 0, 0, 0, 0, 0, 0, 0, 0, 1, 0, 0, 0, 0, 0, 0, 0, 0, 0, 0, 0, 0,\n",
       "        0, 0, 0, 0, 0, 0, 0, 0, 0, 0, 0, 0, 0, 0, 0, 0, 0, 0, 0, 0, 0, 0,\n",
       "        0, 0, 0, 0, 0, 0, 0, 0, 0, 0, 0, 0, 0, 0, 0, 0, 0, 0, 0, 0, 0, 0,\n",
       "        0, 0, 0, 0, 0, 0, 0, 0, 0, 0, 0, 0, 0, 0, 0, 0, 0, 0, 0, 0, 0, 0,\n",
       "        0, 0],\n",
       "       [0, 1, 0, 0, 0, 0, 0, 0, 0, 0, 0, 1, 0, 0, 1, 0, 0, 0, 0, 0, 0, 1,\n",
       "        0, 0, 0, 0, 0, 0, 0, 1, 0, 0, 0, 0, 0, 0, 0, 0, 0, 0, 0, 0, 0, 0,\n",
       "        0, 0, 0, 0, 0, 0, 0, 0, 0, 0, 0, 0, 0, 0, 0, 0, 0, 0, 0, 0, 0, 0,\n",
       "        0, 0, 0, 0, 0, 0, 0, 0, 0, 0, 0, 0, 0, 0, 0, 0, 0, 0, 0, 0, 0, 0,\n",
       "        0, 0, 0, 0, 0, 0, 0, 0, 0, 0, 0, 0, 0, 0, 0, 0, 0, 0, 0, 0, 0, 0,\n",
       "        0, 0, 0, 0, 0, 0, 0, 0, 0, 0, 0, 0, 0, 0, 0, 0, 0, 0, 0, 0, 0, 0,\n",
       "        0, 0, 0, 0, 0, 0, 0, 0, 0, 0, 0, 0, 0, 0, 0, 0, 0, 0, 0, 0, 0, 0,\n",
       "        0, 0, 0, 0, 0, 0, 0, 0, 0, 0, 0, 0, 0, 0, 0, 0, 0, 0, 0, 0, 0, 0,\n",
       "        0, 0, 0, 0, 0, 0, 0, 0, 0, 0, 0, 0, 0, 0, 0, 0, 0, 0, 0, 0, 0, 0,\n",
       "        0, 0]])"
      ]
     },
     "execution_count": 23,
     "metadata": {},
     "output_type": "execute_result"
    }
   ],
   "source": [
    "BoW[:3]"
   ]
  },
  {
   "cell_type": "code",
   "execution_count": null,
   "id": "78551ad2-4645-43fb-9c78-6ccfec416900",
   "metadata": {},
   "outputs": [],
   "source": []
  },
  {
   "cell_type": "markdown",
   "id": "93e179e3-18e4-4980-8968-5e284a59c99c",
   "metadata": {},
   "source": [
    "## N-gram\n",
    "Contiguous sequence of n items(characters,words,sub-words) from a given sample of text or speech, an N-gram language model predicts the probability of a given N-gram within any sequence of words. i.e. the possibility of 'python' being next term if given previous sequence as ['Natural', 'language','prcessing','in']\n",
    "\n",
    "P(w_n|w_1,w_2,w_3,...,w_{i-1}) = \\frac{w_1,w_2,w_3,...,w_i}{P(w_1,w_2,w_3,...,w_{i-1})}\n",
    "\n",
    "\\approx \\frac{w_1,w_2,w_3,...,w_n}{P(w_{i-n},w_{i-n+1},...,w_{n-1})}"
   ]
  },
  {
   "cell_type": "code",
   "execution_count": 26,
   "id": "b250cee5-dc76-4775-b30b-93e93289f6db",
   "metadata": {},
   "outputs": [],
   "source": [
    "import nltk\n",
    "from nltk import bigrams, trigrams\n",
    "from nltk.corpus import reuters\n",
    "from collections import defaultdict"
   ]
  },
  {
   "cell_type": "code",
   "execution_count": 38,
   "id": "da1202c9-5365-45d6-92a3-d04995303073",
   "metadata": {},
   "outputs": [
    {
     "name": "stdout",
     "output_type": "stream",
     "text": [
      "Next Word: No prediction available\n"
     ]
    }
   ],
   "source": [
    "# Join the lines into a single string\n",
    "text = ' '.join(lines)\n",
    "# Tokenize the text\n",
    "words = nltk.word_tokenize(text)\n",
    "# Create trigrams\n",
    "tri_grams = list(trigrams(words))\n",
    "\n",
    "# Build a trigram model\n",
    "model = defaultdict(lambda: defaultdict(lambda: 0))\n",
    "# Count frequency of co-occurrence\n",
    "for w1, w2, w3 in tri_grams:\n",
    "    model[(w1, w2)][w3] += 1\n",
    "\n",
    "# Transform the counts into probabilities\n",
    "for w1_w2 in model:\n",
    "    total_count = float(sum(model[w1_w2].values()))\n",
    "    for w3 in model[w1_w2]:\n",
    "        model[w1_w2][w3] /= total_count\n",
    "\n",
    "# Function to predict the next word\n",
    "def predict_next_word(w1, w2):\n",
    "    next_word = model[w1, w2]\n",
    "    if next_word:\n",
    "        predicted_word = max(next_word, key=next_word.get)  # Choose the most likely next word\n",
    "        return predicted_word\n",
    "    else:\n",
    "        return \"No prediction available\"\n",
    "\n",
    "# Example usage\n",
    "print(\"Next Word:\", predict_next_word('Hund', 'läuft'))\n"
   ]
  },
  {
   "cell_type": "code",
   "execution_count": 36,
   "id": "2e8db58a-bcf3-4caf-b431-fe54936affe5",
   "metadata": {},
   "outputs": [
    {
     "name": "stdout",
     "output_type": "stream",
     "text": [
      "Next Word: heart\n"
     ]
    }
   ],
   "source": [
    "print(\"Next Word:\", predict_next_word('not', 'my'))"
   ]
  },
  {
   "cell_type": "code",
   "execution_count": null,
   "id": "5ca4cb3e-9386-41c0-b017-8eb9ce02a216",
   "metadata": {},
   "outputs": [],
   "source": [
    "print(\"Next Word:\", predict_next_word('not', 'my'))"
   ]
  },
  {
   "cell_type": "code",
   "execution_count": 41,
   "id": "60b74938-8d98-4e67-a579-2cd6a0a18179",
   "metadata": {},
   "outputs": [
    {
     "data": {
      "text/plain": [
       "'(Die Sitzung wird um 10.50 Uhr geschlossen.)\\n'"
      ]
     },
     "execution_count": 41,
     "metadata": {},
     "output_type": "execute_result"
    }
   ],
   "source": [
    "lines[-1]"
   ]
  },
  {
   "cell_type": "markdown",
   "id": "364d013e-fdb8-442a-9dea-bb1c763053d0",
   "metadata": {},
   "source": [
    "### TF-IDF (Term Frequency-Inverse Document Frequency)\n",
    "evaluate the importance of a word in a document relative to a collection of documents\n",
    "\n",
    "Term Frequency = numbers of term t appearing in document d/total terms in document d\n",
    "\n",
    "Inverse Document Frequency = log(total number of documents/number of documents containing term t)\n",
    "\n",
    "Common but irrelavent word such as 'in' and 'out' could have high TF, yet IDF alone can't reflect the importance of document specified terms (i.e. keyword in papers). TF-IDF balances common and rare words to highlight the most meaningful terms."
   ]
  },
  {
   "cell_type": "code",
   "execution_count": null,
   "id": "71725640-49b6-431a-9861-93ed3678ec30",
   "metadata": {},
   "outputs": [],
   "source": [
    "from sklearn.feature_extraction.text import TfidfVectorizer\n",
    "\n",
    "# assign documents\n",
    "d0 = 'Apples are fruits'\n",
    "d1 = 'Tomatoes are fruits'\n",
    "d2 = 'Tomatoes are also vegetables'\n",
    "\n",
    "# merge documents into a single corpus\n",
    "string = [d0, d1, d2]\n",
    "\n",
    "# get tf-df values\n",
    "tfidf = TfidfVectorizer()\n",
    "result = tfidf.fit_transform(string)"
   ]
  },
  {
   "cell_type": "markdown",
   "id": "73d531f1-a64e-484d-a66a-fb757cbd9444",
   "metadata": {},
   "source": [
    "the words 'apple','also' are highlighted because they only appear in one documents, and 'tomamtoes','fruits' are considered important because they are frequent yet not common"
   ]
  },
  {
   "cell_type": "code",
   "execution_count": 50,
   "id": "f6576c89-ee0d-4519-8d94-81a2264aef0f",
   "metadata": {},
   "outputs": [
    {
     "name": "stdout",
     "output_type": "stream",
     "text": [
      "\n",
      "idf values:\n",
      "also : 1.6931471805599454\n",
      "apples : 1.6931471805599454\n",
      "are : 1.0\n",
      "fruits : 1.2876820724517808\n",
      "tomatoes : 1.2876820724517808\n",
      "vegetables : 1.6931471805599454\n"
     ]
    }
   ],
   "source": [
    "print('\\nidf values:')\n",
    "for word, idf_value in zip(tfidf.get_feature_names_out(), tfidf.idf_):\n",
    "    print(word, ':', idf_value)"
   ]
  },
  {
   "cell_type": "markdown",
   "id": "f9bfc364-498e-497c-9894-7874e59b055f",
   "metadata": {},
   "source": [
    "form of output in tf-idf values: (ith document, jth word) tf-idf"
   ]
  },
  {
   "cell_type": "code",
   "execution_count": 52,
   "id": "49f161f9-3846-4c5f-add1-f7035a1e97fe",
   "metadata": {},
   "outputs": [
    {
     "name": "stdout",
     "output_type": "stream",
     "text": [
      "\n",
      "Word indexes:\n",
      "{'apples': 1, 'are': 2, 'fruits': 3, 'tomatoes': 4, 'also': 0, 'vegetables': 5}\n",
      "\n",
      "tf-idf value:\n",
      "  (0, 3)\t0.5478321549274363\n",
      "  (0, 2)\t0.4254405389711991\n",
      "  (0, 1)\t0.7203334490549893\n",
      "  (1, 4)\t0.6198053799406072\n",
      "  (1, 3)\t0.6198053799406072\n",
      "  (1, 2)\t0.48133416873660545\n",
      "  (2, 5)\t0.5844829010200651\n",
      "  (2, 0)\t0.5844829010200651\n",
      "  (2, 4)\t0.444514311537431\n",
      "  (2, 2)\t0.34520501686496574\n",
      "\n",
      "tf-idf values in matrix form:\n",
      "[[0.         0.72033345 0.42544054 0.54783215 0.         0.        ]\n",
      " [0.         0.         0.48133417 0.61980538 0.61980538 0.        ]\n",
      " [0.5844829  0.         0.34520502 0.         0.44451431 0.5844829 ]]\n"
     ]
    }
   ],
   "source": [
    "# get indexing\n",
    "print('\\nWord indexes:')\n",
    "print(tfidf.vocabulary_)\n",
    "\n",
    "# display tf-idf values\n",
    "print('\\ntf-idf value:')\n",
    "print(result)\n",
    "\n",
    "# in matrix form\n",
    "print('\\ntf-idf values in matrix form:')\n",
    "print(result.toarray())"
   ]
  },
  {
   "cell_type": "markdown",
   "id": "976989e7-22ba-49b9-8a1a-14dbf9a5ee12",
   "metadata": {},
   "source": [
    "# Embedding : trained representation models"
   ]
  },
  {
   "cell_type": "markdown",
   "id": "d0244a58-a4d2-4d45-8bca-2e283a5a45b5",
   "metadata": {},
   "source": [
    "### Word2Vec\n",
    "trained through skip-gram or CBOW(continuous bag of words), a shallow network with 2 hidden layers. 'The dog is running'\n",
    "\n",
    "Skip-gram : predict the context with target words 'dog'>>'the''is''running'\n",
    "\n",
    "CBOW : predict target words with given window of context 'the' 'is' 'runing' >> 'dog'\n",
    "\n",
    "PROS : semantic representation, distributional pattern reflects semantic similarities, allows vector arithmetic\n",
    "\n",
    "Application : machine translation, text classification, sentiment analysis, and information retrieval"
   ]
  },
  {
   "cell_type": "code",
   "execution_count": 1,
   "id": "d526ab3e-0d4a-4cc5-8037-4d4156197ce6",
   "metadata": {},
   "outputs": [],
   "source": [
    "import gensim\n",
    "from gensim.models import Word2Vec\n",
    "from nltk.tokenize import sent_tokenize, word_tokenize\n",
    "import warnings\n",
    "warnings.filterwarnings(action='ignore')\n",
    " \n",
    " \n",
    "sample = open(\"alice.txt\")\n",
    "s = sample.read()\n",
    "f = s.replace(\"\\n\", \" \")\n",
    " \n",
    "data = []\n",
    "for i in sent_tokenize(f):\n",
    "    temp = []\n",
    "    for j in word_tokenize(i):\n",
    "        temp.append(j.lower())\n",
    "    data.append(temp)"
   ]
  },
  {
   "cell_type": "code",
   "execution_count": 3,
   "id": "5f798c93-e635-4ea6-a7e2-6b02cebe2056",
   "metadata": {},
   "outputs": [
    {
     "name": "stdout",
     "output_type": "stream",
     "text": [
      "Cosine similarity between 'alice' and 'wonderland' - CBOW :  0.98673964\n",
      "Cosine similarity between 'alice' and 'machines' - CBOW :  0.9174969\n"
     ]
    }
   ],
   "source": [
    "# CBOW model\n",
    "model1 = gensim.models.Word2Vec(data, min_count=1,\n",
    "                                vector_size=100, window=5)\n",
    " \n",
    "print(\"Cosine similarity between 'alice' \" +\n",
    "      \"and 'wonderland' - CBOW : \",\n",
    "      model1.wv.similarity('alice', 'wonderland'))\n",
    " \n",
    "print(\"Cosine similarity between 'alice' \" +\n",
    "      \"and 'machines' - CBOW : \",\n",
    "      model1.wv.similarity('alice', 'machines'))\n",
    " "
   ]
  },
  {
   "cell_type": "code",
   "execution_count": 5,
   "id": "63ce15d8-3af5-4543-93a4-2e5b3d705cea",
   "metadata": {},
   "outputs": [
    {
     "name": "stdout",
     "output_type": "stream",
     "text": [
      "Cosine similarity between 'alice' and 'wonderland' - Skip Gram :  0.8623241\n",
      "Cosine similarity between 'alice' and 'machines' - Skip Gram :  0.87525654\n"
     ]
    }
   ],
   "source": [
    "#Skip Gram model\n",
    "model2 = gensim.models.Word2Vec(data, min_count=1, vector_size=100,\n",
    "                                window=5, sg=1)\n",
    "\n",
    "print(\"Cosine similarity between 'alice' \" +\n",
    "      \"and 'wonderland' - Skip Gram : \",\n",
    "      model2.wv.similarity('alice', 'wonderland'))\n",
    " \n",
    "print(\"Cosine similarity between 'alice' \" +\n",
    "      \"and 'machines' - Skip Gram : \",\n",
    "      model2.wv.similarity('alice', 'machines'))\n"
   ]
  },
  {
   "cell_type": "markdown",
   "id": "12b58f6c-9101-4f87-8faa-d98cbb11466e",
   "metadata": {},
   "source": [
    "### GloVe\n",
    "unsupervised learning using the statistical co-occurrence data of words in a given corpus, minimize the weighted distance between embedding and co-occurance matrix(seen as a possibility matrix)\n",
    "\n",
    "application : named entity recoginition, translation, semantic search, word analogy, word clustering"
   ]
  },
  {
   "cell_type": "code",
   "execution_count": 11,
   "id": "9132a2c2-5a54-4e0d-9043-66d84c4cbda5",
   "metadata": {},
   "outputs": [
    {
     "name": "stdout",
     "output_type": "stream",
     "text": [
      "Number of unique words in dictionary= 6\n",
      "Dictionary is =  {'language': 1, 'text': 2, 'leader': 3, 'the': 4, 'prime': 5, 'natural': 6}\n",
      "Dense vector for first word is =>  [-5.79900026e-01 -1.10100001e-01 -1.15569997e+00 -2.99059995e-03\n",
      " -2.06129998e-01  4.52890009e-01 -1.66710004e-01 -1.03820002e+00\n",
      " -9.92410004e-01  3.98840010e-01  5.92299998e-01  2.29900002e-01\n",
      "  1.52129996e+00 -1.77640006e-01 -2.97259986e-01 -3.92349988e-01\n",
      " -7.84709990e-01  1.55939996e-01  6.90769970e-01  5.95369995e-01\n",
      " -4.43399996e-01  5.35139978e-01  3.28530014e-01  1.24370003e+00\n",
      "  1.29719996e+00 -1.38779998e+00 -1.09249997e+00 -4.09249991e-01\n",
      " -5.69710016e-01 -3.46560001e-01  3.71630001e+00 -1.04890001e+00\n",
      " -4.67079997e-01 -4.47389990e-01  6.22999994e-03  1.96490008e-02\n",
      " -4.01609987e-01 -6.29130006e-01 -8.25060010e-01  4.55909997e-01\n",
      "  8.26259971e-01  5.70909977e-01  2.11989999e-01  4.68650013e-01\n",
      " -6.00269973e-01  2.99199998e-01  6.79440022e-01  1.42379999e+00\n",
      " -3.21520008e-02 -1.26029998e-01]\n"
     ]
    }
   ],
   "source": [
    "from tensorflow.keras.preprocessing.text import Tokenizer\n",
    "from tensorflow.keras.preprocessing.sequence import pad_sequences\n",
    "import numpy as np\n",
    " \n",
    "x = {'text', 'the', 'leader', 'prime', 'natural', 'language'}\n",
    " \n",
    "# create the dict.\n",
    "tokenizer = Tokenizer()\n",
    "tokenizer.fit_on_texts(x)\n",
    " \n",
    "# number of unique words in dict.\n",
    "print(\"Number of unique words in dictionary=\", \n",
    "      len(tokenizer.word_index))\n",
    "print(\"Dictionary is = \", tokenizer.word_index)\n",
    " \n",
    "# download glove and unzip it in Notebook.\n",
    "#!wget http://nlp.stanford.edu/data/glove.6B.zip\n",
    "#!unzip glove*.zip\n",
    " \n",
    "def embedding_for_vocab(filepath, word_index,\n",
    "                        embedding_dim):\n",
    "    vocab_size = len(word_index) + 1\n",
    "     \n",
    "    # Adding again 1 because of reserved 0 index\n",
    "    embedding_matrix_vocab = np.zeros((vocab_size,\n",
    "                                       embedding_dim))\n",
    " \n",
    "    with open(filepath, encoding=\"utf8\") as f:\n",
    "        for line in f:\n",
    "            word, *vector = line.split()\n",
    "            if word in word_index:\n",
    "                idx = word_index[word]\n",
    "                embedding_matrix_vocab[idx] = np.array(\n",
    "                    vector, dtype=np.float32)[:embedding_dim]\n",
    " \n",
    "    return embedding_matrix_vocab\n",
    " \n",
    "# matrix for vocab: word_index\n",
    "embedding_dim = 50\n",
    "embedding_matrix_vocab = embedding_for_vocab('glove/glove.6B.50d.txt', tokenizer.word_index,embedding_dim)\n",
    " \n",
    "print(\"Dense vector for first word is => \",embedding_matrix_vocab[1])"
   ]
  },
  {
   "cell_type": "markdown",
   "id": "037bb3c0-f6d6-4450-81f3-4c7400419591",
   "metadata": {},
   "source": [
    "### fastText\n",
    "developed by Facebook's AI Research (FAIR) lab, instead of representing words as single entities, FastText breaks them down into smaller components called character n-grams. It's extension of word2Vec model, particularly useful for handling languages with rich morphology or for tasks where out-of-vocabulary words are common\n",
    "\n",
    "\"<ba, bas, ask, sket, ket, et, etb, tb, tb, bal, all, ll>\" and \"<basketball>\". all considered for 'basketball'"
   ]
  },
  {
   "cell_type": "code",
   "execution_count": 13,
   "id": "fa746e85-8408-4ec8-9004-47521b11c9c5",
   "metadata": {},
   "outputs": [
    {
     "name": "stdout",
     "output_type": "stream",
     "text": [
      "Most similar words to 'sunflower': [('response', 0.2742580771446228), ('time', 0.19048680365085602), ('computer', 0.18673823773860931), ('survey', 0.07351218163967133), ('system', 0.06112516671419144), ('interface', 0.03289278596639633), ('trees', 0.009829370304942131), ('human', -0.0001683309383224696), ('eps', -0.016743149608373642), ('user', -0.029780348762869835)]\n"
     ]
    }
   ],
   "source": [
    "from gensim.models import FastText\n",
    "from gensim.test.utils import common_texts\n",
    "\n",
    "# Training FastText model\n",
    "corpus = common_texts\n",
    "model = FastText(sentences=corpus, vector_size=100, window=5, min_count=1, workers=4, sg=1)\n",
    "\n",
    "# Example usage: getting embeddings for a word\n",
    "word_embedding = model.wv['sunflower']\n",
    "similar_words = model.wv.most_similar('sunflower')\n",
    "print(\"Most similar words to 'sunflower':\", similar_words)"
   ]
  },
  {
   "cell_type": "markdown",
   "id": "1dbe3279-5d7c-4a4b-8019-39051df91d96",
   "metadata": {},
   "source": [
    "## pre-trained embedding"
   ]
  },
  {
   "cell_type": "markdown",
   "id": "40486d4c-2acb-4f78-abaa-20f148cdbb7f",
   "metadata": {},
   "source": [
    "### Embeddings from Language Models (ELMo)\n",
    "word vectors are calculated using a two-layer bidirectional language model (biLM). Using the complete sentence containing that word, ELMo captures the context of the word and can generate different embeddings for the same word used in a different context in different sentences."
   ]
  },
  {
   "cell_type": "code",
   "execution_count": 11,
   "id": "89e09c63-d0f7-4295-83ab-ea297421d2c1",
   "metadata": {},
   "outputs": [
    {
     "data": {
      "image/jpeg": "[encoded data removed]",
      "text/plain": [
       "<IPython.core.display.Image object>"
      ]
     },
     "execution_count": 11,
     "metadata": {},
     "output_type": "execute_result"
    }
   ],
   "source": [
    "from IPython.display import Image\n",
    "Image(filename='biLM.jpg')"
   ]
  },
  {
   "cell_type": "code",
   "execution_count": 16,
   "id": "83828987-8049-4346-8ef8-ad749ebbef1f",
   "metadata": {},
   "outputs": [
    {
     "name": "stdout",
     "output_type": "stream",
     "text": [
      "Shape of the embeddings: (2, 6, 1024)\n",
      "Word embeddings for the word 'WATCH' in the first sentence:\n",
      "[ 0.54308295 -0.3439697   0.24777155 ...  0.652064   -0.75163364\n",
      "  0.6272552 ]\n",
      "Word embeddings for the word 'WATCH' in the second sentence:\n",
      "[-0.08213355  0.01050331 -0.01454124 ...  0.4870539  -0.5445795\n",
      "  0.52623993]\n"
     ]
    }
   ],
   "source": [
    "import tensorflow as tf\n",
    "import tensorflow_hub as hub\n",
    "\n",
    "# Load the ELMo model from TensorFlow Hub\n",
    "elmo = hub.load(\"https://tfhub.dev/google/elmo/3\")\n",
    "\n",
    "# Example sentence (no need to split the sentence into words)\n",
    "sentences = [\n",
    "    \"I love to watch TV\",\n",
    "    \"I am wearing a wrist watch\"\n",
    "]\n",
    "\n",
    "# Convert the sentence to a tensor\n",
    "input_tensor = tf.constant(sentences)\n",
    "\n",
    "# Get the ELMo embeddings for the sentence\n",
    "embeddings = elmo.signatures['default'](input_tensor)['elmo']\n",
    "\n",
    "# The shape of the output embeddings will be [batch_size, sequence_length, embedding_dim]\n",
    "# You can get the embedding for each word in the sentence\n",
    "print(\"Shape of the embeddings:\", embeddings.shape)\n",
    "\n",
    "print(\"Word embeddings for the word 'WATCH' in the first sentence:\")\n",
    "print(embeddings[0][4].numpy())  # 4th index for the word \"watch\" in the first sentence\n",
    "\n",
    "print(\"Word embeddings for the word 'WATCH' in the second sentence:\")\n",
    "print(embeddings[1][5].numpy())  # 5th index for the word \"watch\" in the second sentence"
   ]
  },
  {
   "cell_type": "markdown",
   "id": "58f882cc-8ccd-4f6f-aee0-5ffeaa72e979",
   "metadata": {},
   "source": [
    "### BERT（Bidirectional Encoder Representations from Transformers）\n",
    "Encoder only bidirection tranformer archetecture\n",
    "\n",
    "Pretraining : 1. Masked Language Model: guessing missing (masked) words, BERT adds a special layer on top of its learning system to make these guesses, focuses on missing words. 2. Next Sentence Prediction (NSP) : guessing if one sentence follows another\n",
    "\n",
    "Fine-tuning : supervised learning on labeled data"
   ]
  },
  {
   "cell_type": "code",
   "execution_count": 19,
   "id": "6d4ad01d-29a3-4a34-99fd-2bce322f8031",
   "metadata": {},
   "outputs": [
    {
     "data": {
      "application/vnd.jupyter.widget-view+json": {
       "model_id": "8eec2d290efc4595bb9bbcffc9ded4b3",
       "version_major": 2,
       "version_minor": 0
      },
      "text/plain": [
       "tokenizer_config.json:   0%|          | 0.00/49.0 [00:00<?, ?B/s]"
      ]
     },
     "metadata": {},
     "output_type": "display_data"
    },
    {
     "data": {
      "application/vnd.jupyter.widget-view+json": {
       "model_id": "aee16303b4d9438abce36de6d942dbb0",
       "version_major": 2,
       "version_minor": 0
      },
      "text/plain": [
       "vocab.txt:   0%|          | 0.00/213k [00:00<?, ?B/s]"
      ]
     },
     "metadata": {},
     "output_type": "display_data"
    },
    {
     "data": {
      "application/vnd.jupyter.widget-view+json": {
       "model_id": "1c0c6f8b515f4882bc5a881d3f1f9d08",
       "version_major": 2,
       "version_minor": 0
      },
      "text/plain": [
       "tokenizer.json:   0%|          | 0.00/436k [00:00<?, ?B/s]"
      ]
     },
     "metadata": {},
     "output_type": "display_data"
    },
    {
     "data": {
      "application/vnd.jupyter.widget-view+json": {
       "model_id": "46aaa7b15372476c8731fd23411e6dae",
       "version_major": 2,
       "version_minor": 0
      },
      "text/plain": [
       "config.json:   0%|          | 0.00/570 [00:00<?, ?B/s]"
      ]
     },
     "metadata": {},
     "output_type": "display_data"
    },
    {
     "name": "stdout",
     "output_type": "stream",
     "text": [
      "Token IDs: [101, 24705, 1204, 17095, 1942, 1110, 170, 1846, 2235, 1872, 1118, 3353, 1592, 2240, 117, 1359, 1113, 1103, 15175, 1942, 113, 9066, 15306, 11689, 118, 3972, 13809, 23763, 114, 4220, 119, 102]\n",
      "Tokens: ['[CLS]', 'Cha', '##t', '##GP', '##T', 'is', 'a', 'language', 'model', 'developed', 'by', 'Open', '##A', '##I', ',', 'based', 'on', 'the', 'GP', '##T', '(', 'Gene', '##rative', 'Pre', '-', 'trained', 'Trans', '##former', ')', 'architecture', '.', '[SEP]']\n"
     ]
    }
   ],
   "source": [
    "from transformers import BertTokenizer\n",
    "\n",
    "# Load pre-trained BERT tokenizer\n",
    "tokenizer = BertTokenizer.from_pretrained(\"bert-base-cased\")\n",
    "\n",
    "# Input text\n",
    "text = 'ChatGPT is a language model developed by OpenAI, based on the GPT (Generative Pre-trained Transformer) architecture. '\n",
    "\n",
    "# Tokenize and encode the text\n",
    "encoding = tokenizer.encode(text)\n",
    "\n",
    "# Print the token IDs\n",
    "print(\"Token IDs:\", encoding)\n",
    "\n",
    "# Convert token IDs back to tokens\n",
    "tokens = tokenizer.convert_ids_to_tokens(encoding)\n",
    "\n",
    "# Print the corresponding tokens\n",
    "print(\"Tokens:\", tokens)"
   ]
  },
  {
   "cell_type": "code",
   "execution_count": null,
   "id": "e06a8590-c91b-4fc9-8459-bf3a9c4b588d",
   "metadata": {},
   "outputs": [],
   "source": []
  }
 ],
 "metadata": {
  "kernelspec": {
   "display_name": "Python 3 (ipykernel)",
   "language": "python",
   "name": "python3"
  },
  "language_info": {
   "codemirror_mode": {
    "name": "ipython",
    "version": 3
   },
   "file_extension": ".py",
   "mimetype": "text/x-python",
   "name": "python",
   "nbconvert_exporter": "python",
   "pygments_lexer": "ipython3",
   "version": "3.12.4"
  }
 },
 "nbformat": 4,
 "nbformat_minor": 5
}
